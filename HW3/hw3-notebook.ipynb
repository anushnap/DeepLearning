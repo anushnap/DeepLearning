{
 "cells": [
  {
   "cell_type": "markdown",
   "id": "6f2843dc",
   "metadata": {},
   "source": [
    "Anushna Prakash  \n",
    "DATA 598 - Deep Learning  \n",
    "January 28 2022  \n",
    "# <center> Homework 3 </center>  \n",
    "## Part I: The Effect of BatchNorm on a ConvNet  \n",
    "\n",
    "First, download and preprocess the data."
   ]
  },
  {
   "cell_type": "code",
   "execution_count": 1,
   "id": "94d56444",
   "metadata": {},
   "outputs": [
    {
     "name": "stdout",
     "output_type": "stream",
     "text": [
      "X_train.shape = torch.Size([6000, 28, 28])\n",
      "n_train: 6000, n_test: 10000\n",
      "Image size: torch.Size([28, 28])\n"
     ]
    },
    {
     "data": {
      "image/png": "[encoded data removed]",
      "text/plain": [
       "<Figure size 1440x288 with 5 Axes>"
      ]
     },
     "metadata": {
      "needs_background": "light"
     },
     "output_type": "display_data"
    }
   ],
   "source": [
    "import torch\n",
    "from torchvision.datasets import FashionMNIST\n",
    "import matplotlib.pyplot as plt\n",
    "import numpy as np\n",
    "import copy\n",
    "\n",
    "# download dataset (~117M in size)\n",
    "train_dataset = FashionMNIST('./data', train=True, download=True)\n",
    "X_train = train_dataset.data # torch tensor of type uint8\n",
    "y_train = train_dataset.targets # torch tensor of type Long\n",
    "test_dataset = FashionMNIST('./data', train=False, download=True)\n",
    "X_test = test_dataset.data\n",
    "y_test = test_dataset.targets\n",
    "\n",
    "# choose a subsample of 10% of the data:\n",
    "idxs_train = torch.from_numpy(\n",
    "    np.random.choice(X_train.shape[0], replace=False, size=X_train.shape[0]//10)).long()\n",
    "X_train, y_train = X_train[idxs_train], y_train[idxs_train]\n",
    "# idxs_test = torch.from_numpy(\n",
    "#     np.random.choice(X_test.shape[0], replace=False, size=X_test.shape[0]//10))\n",
    "# X_test, y_test = X_test[idxs_test], y_test[idxs_test]\n",
    "\n",
    "print(f'X_train.shape = {X_train.shape}')\n",
    "print(f'n_train: {X_train.shape[0]}, n_test: {X_test.shape[0]}')\n",
    "print(f'Image size: {X_train.shape[1:]}')\n",
    "\n",
    "f, ax = plt.subplots(1, 5, figsize=(20, 4))\n",
    "for i, idx in enumerate(np.random.choice(X_train.shape[0], 5)):\n",
    "    ax[i].imshow(X_train[idx], cmap='gray', vmin=0, vmax=255)\n",
    "    ax[i].set_title(f'Label = {y_train[idx]}', fontsize=20)\n",
    "    \n",
    "# Normalize dataset: pixel values lie between 0 and 255\n",
    "# Normalize them so the pixelwise mean is zero and standard deviation is 1\n",
    "\n",
    "X_train = X_train.float()  # convert to float32\n",
    "X_train = X_train.view(-1, 784)\n",
    "mean, std = X_train.mean(axis=0), X_train.std(axis=0)\n",
    "X_train = (X_train - mean[None, :]) / (std[None, :] + 1e-6)  # avoid divide by zero\n",
    "\n",
    "X_test = X_test.float()\n",
    "X_test = X_test.view(-1, 784)\n",
    "X_test = (X_test - mean[None, :]) / (std[None, :] + 1e-6)"
   ]
  },
  {
   "cell_type": "markdown",
   "id": "20f3d995",
   "metadata": {},
   "source": [
    "Create a Convolutional Neural Net with two convolutional layers:  \n",
    "Input $(1, 28, 28) \\rightarrow$ Convolution with $k=5$, `filters=16`, `padding=2` $\\rightarrow$ ReLU $\\rightarrow$ MaxPool with $k=2 \\rightarrow$ Convolution with $k=5$, `filters=32`, `padding=2` $\\rightarrow$ ReLU $\\rightarrow$ MaxPool with $k=2 \\rightarrow$ Linear output = 10"
   ]
  },
  {
   "cell_type": "markdown",
   "id": "90f3ffc1",
   "metadata": {},
   "source": [
    "### Step 1: Figure out size `S` to flatten to  \n",
    "This is for the `torch.nn.Linear` final step.  "
   ]
  },
  {
   "cell_type": "code",
   "execution_count": 2,
   "id": "5db2169d",
   "metadata": {},
   "outputs": [
    {
     "name": "stdout",
     "output_type": "stream",
     "text": [
      "torch.Size([1, 16, 28, 28])\n",
      "torch.Size([1, 16, 28, 28])\n",
      "torch.Size([1, 16, 14, 14])\n",
      "torch.Size([1, 32, 14, 14])\n",
      "torch.Size([1, 32, 14, 14])\n",
      "torch.Size([1, 32, 7, 7])\n"
     ]
    }
   ],
   "source": [
    "image_size = 28\n",
    "# 1 batch, 1 channel, 228x228 image\n",
    "dummy = torch.randn(1, 1, image_size, image_size)\n",
    "\n",
    "# Run dummy thru input layers\n",
    "conv1 = torch.nn.Conv2d(\n",
    "    in_channels=1, out_channels=16, kernel_size=5,\n",
    "    padding=2, stride=1\n",
    ")\n",
    "out = conv1(dummy)\n",
    "# 1 batch, 16 channels, image size, image size\n",
    "print(out.shape)\n",
    "relu = torch.nn.ReLU()\n",
    "out = relu(out)\n",
    "# 1 batch, 16 channels, image size, image size\n",
    "print(out.shape)\n",
    "pool = torch.nn.MaxPool2d(2)\n",
    "out = pool(out)\n",
    "# 1 batch, 16 channels, image size / kernel input size, image size / kernel input size\n",
    "print(out.shape)\n",
    "\n",
    "# Run thru second part\n",
    "# Run dummy thru input layers\n",
    "# Now has 16 input channels\n",
    "conv2 = torch.nn.Conv2d(\n",
    "    in_channels=16, out_channels=32, kernel_size=5,\n",
    "    padding=2, stride=1\n",
    ")\n",
    "out = conv2(out)\n",
    "# 1 batch, 32 channels, image size, image size\n",
    "print(out.shape)\n",
    "relu = torch.nn.ReLU()\n",
    "out = relu(out)\n",
    "# 1 batch, 32 channels, image size, image size\n",
    "print(out.shape)\n",
    "pool = torch.nn.MaxPool2d(2)\n",
    "out = pool(out)\n",
    "# 1 batch, 32 channels, image size / kernel input size, image size / kernel input size\n",
    "print(out.shape)\n",
    "\n",
    "# Now convert final out shape into 1 x 10"
   ]
  },
  {
   "cell_type": "code",
   "execution_count": 3,
   "id": "4d1984b6",
   "metadata": {},
   "outputs": [],
   "source": [
    "class ConvNet(torch.nn.Module):\n",
    "    \"\"\"\n",
    "    Defines a convolution neural net with 2 convolution layers\n",
    "    Does not employ batch norming\n",
    "    \"\"\"\n",
    "    def __init__(self, num_classes=10):\n",
    "        super().__init__()\n",
    "        self.conv_ensemble_1 = torch.nn.Sequential(\n",
    "            torch.nn.Conv2d(1, 16, kernel_size=5, padding=2),\n",
    "            torch.nn.ReLU(),\n",
    "            torch.nn.MaxPool2d(2))\n",
    "        self.conv_ensemble_2 = torch.nn.Sequential(\n",
    "            torch.nn.Conv2d(16, 32, kernel_size=5, padding=2),\n",
    "            torch.nn.ReLU(),\n",
    "            torch.nn.MaxPool2d(2))\n",
    "        # Final layer output is batch x channels x imagesize / 4 x imagesize / 4\n",
    "        self.fully_connected_layer = torch.nn.Linear(7*7*32, num_classes)\n",
    "    \n",
    "    def forward(self, x):\n",
    "        x = x.view(-1, 1, 28, 28) # Resize, needs channel\n",
    "        out = self.conv_ensemble_1(x) # Run thru layer 1\n",
    "        out = self.conv_ensemble_2(out) # Run thru layer 2\n",
    "        out = out.view(out.shape[0], -1)  # flatten output\n",
    "        out = self.fully_connected_layer(out)  # output layer\n",
    "        return out"
   ]
  },
  {
   "cell_type": "markdown",
   "id": "80b8d9dd",
   "metadata": {},
   "source": [
    "Create a Convolutional Neural Net that is the same as above, but has batch norm applied after each `MaxPool2d` layer."
   ]
  },
  {
   "cell_type": "code",
   "execution_count": 4,
   "id": "6ebdc460",
   "metadata": {},
   "outputs": [],
   "source": [
    "class BatchNormConvNet(torch.nn.Module):\n",
    "    \"\"\"\n",
    "    Defines a convolution neural net with 2 convolution layers\n",
    "    Employ batch norming\n",
    "    \"\"\"\n",
    "    def __init__(self, num_classes=10):\n",
    "        super().__init__()\n",
    "        self.conv_ensemble_1 = torch.nn.Sequential(\n",
    "            torch.nn.Conv2d(1, 16, kernel_size=5, padding=2),\n",
    "            torch.nn.ReLU(),\n",
    "            torch.nn.MaxPool2d(2),\n",
    "            torch.nn.BatchNorm2d(num_features=16))\n",
    "        self.conv_ensemble_2 = torch.nn.Sequential(\n",
    "            torch.nn.Conv2d(16, 32, kernel_size=5, padding=2),\n",
    "            torch.nn.ReLU(),\n",
    "            torch.nn.MaxPool2d(2),\n",
    "            torch.nn.BatchNorm2d(num_features=32))\n",
    "        self.fully_connected_layer = torch.nn.Linear(7*7*32, num_classes)\n",
    "\n",
    "    def forward(self, x):\n",
    "        x = x.view(-1, 1, 28, 28) # Resize, needs channel\n",
    "        out = self.conv_ensemble_1(x) # Run thru layer 1\n",
    "        out = self.conv_ensemble_2(out) # Run thru layer 2\n",
    "        out = out.view(out.shape[0], -1)  # flatten output\n",
    "        out = self.fully_connected_layer(out)  # output layer\n",
    "        return out"
   ]
  },
  {
   "cell_type": "code",
   "execution_count": 5,
   "id": "d8e85605",
   "metadata": {},
   "outputs": [],
   "source": [
    "# Test\n",
    "model = ConvNet(num_classes=10)\n",
    "model2 = BatchNormConvNet(num_classes=10)\n",
    "\n",
    "out = model(dummy)\n",
    "dummy = torch.randn(32, 1, image_size, image_size)\n",
    "out = model2(dummy)"
   ]
  },
  {
   "cell_type": "code",
   "execution_count": 6,
   "id": "ba5ae3bd",
   "metadata": {},
   "outputs": [
    {
     "data": {
      "text/plain": [
       "torch.Size([32, 10])"
      ]
     },
     "execution_count": 6,
     "metadata": {},
     "output_type": "execute_result"
    }
   ],
   "source": [
    "out.shape"
   ]
  },
  {
   "cell_type": "markdown",
   "id": "d6427ed2",
   "metadata": {},
   "source": [
    "Edit prior functions to switch on/off training and eval modes"
   ]
  },
  {
   "cell_type": "code",
   "execution_count": 9,
   "id": "f4ca7eeb",
   "metadata": {},
   "outputs": [],
   "source": [
    "from torch.nn.functional import cross_entropy\n",
    "\n",
    "def compute_objective(net, X, y):\n",
    "    \"\"\" \n",
    "    Compute the multinomial logistic loss. \n",
    "    net is a module\n",
    "    X of shape (n, d) and y of shape (n,)\n",
    "    \"\"\"\n",
    "    # send \n",
    "    score = net(X)\n",
    "    # PyTorch's function cross_entropy computes the multinomial logistic loss\n",
    "    return cross_entropy(input=score, target=y, reduction='mean') \n",
    "\n",
    "@torch.no_grad()\n",
    "def compute_accuracy(net, X, y):\n",
    "    \"\"\" \n",
    "    Compute the classification accuracy\n",
    "    based on majority vote from augmented images.\n",
    "    X of shape (n, d) and y of shape (n,)\n",
    "    \"\"\"\n",
    "    training_flag = net.training # Is model in training mode?\n",
    "    net.eval()\n",
    "    score = net(X)\n",
    "    predictions = torch.argmax(score, axis=1)  # class with highest score is predicted\n",
    "    \n",
    "    # Switch back to train when needed\n",
    "    if training_flag:\n",
    "        net.train()\n",
    "\n",
    "    return (predictions == y).sum() * 1.0 / y.shape[0]\n",
    "\n",
    "@torch.no_grad()\n",
    "def compute_logs(net, X_train, y_train, X_test, y_test, verbose=False):\n",
    "    \"\"\"\n",
    "    Compute loss & accuracy for train & test\n",
    "    Returns values in tuple in the order:\n",
    "    Train Loss, Train Accuracy, Test Loss, Test Accuracy\n",
    "    \"\"\"\n",
    "    training_flag = net.training\n",
    "    net.eval() # Switch to eval\n",
    "    train_loss = compute_objective(net, X_train, y_train)\n",
    "    test_loss = compute_objective(net, X_test, y_test)\n",
    "    \n",
    "    train_accuracy = compute_accuracy(net, X_train, y_train)\n",
    "    test_accuracy = compute_accuracy(net, X_test, y_test)\n",
    "    if verbose:\n",
    "        print(('Train Loss = {:.3f}, Train Accuracy = {:.3f}, ' + \n",
    "               'Test Loss = {:.3f}, Test Accuracy = {:.3f}').format(\n",
    "                train_loss.item(), train_accuracy.item(), \n",
    "                test_loss.item(), test_accuracy.item())\n",
    "    )\n",
    "    \n",
    "    # Switch back to training mode if needed\n",
    "    if training_flag:\n",
    "        net.train()\n",
    "\n",
    "    return (train_loss, train_accuracy, test_loss, test_accuracy)\n",
    "\n",
    "def minibatch_sgd_one_pass(net, X, y, learning_rate, batch_size, verbose=False):\n",
    "    \"\"\"\n",
    "    Performs one pass of stochastic gradient descent.\n",
    "    \"\"\"\n",
    "    num_examples = X.shape[0]\n",
    "    average_loss = 0.0\n",
    "    num_updates = int(round(num_examples / batch_size))\n",
    "    for i in range(num_updates):\n",
    "        idxs = np.random.choice(num_examples, size=(batch_size,))\n",
    "        X_transformed = X[idxs]\n",
    "        \n",
    "        # Be in training mode\n",
    "        net.train()\n",
    "        objective = compute_objective(net, X_transformed, y[idxs]) \n",
    "        average_loss = 0.99 * average_loss + 0.01 * objective.item()\n",
    "        \n",
    "        if verbose and (i+1) % 100 == 0:\n",
    "            print(average_loss)\n",
    "        \n",
    "        gradients = torch.autograd.grad(outputs=objective, inputs=net.parameters())\n",
    "        # perform SGD update inplace\n",
    "        with torch.no_grad():\n",
    "            for (w, g) in zip(net.parameters(), gradients):\n",
    "                w -= learning_rate * g\n",
    "    return net"
   ]
  },
  {
   "cell_type": "markdown",
   "id": "70bcf177",
   "metadata": {},
   "source": [
    "Compute local smoothness.  \n",
    "$$ \\hat{L}(w;u)=\\frac{||\\nabla f(w+u) - \\nabla f(w)||_2}{||u||_2}$$  \n",
    "where  \n",
    "$$ u = -\\eta \\frac{1}{B} \\sum_{b=1}^{B} \\nabla_w \\ell(y_{i_b},\\phi(x_{i_b};w))$$"
   ]
  },
  {
   "cell_type": "code",
   "execution_count": 8,
   "id": "fea0294b",
   "metadata": {},
   "outputs": [],
   "source": [
    "def compute_local_smoothness(net, X, y, learning_rate, batch_size):\n",
    "    \"\"\"\n",
    "    Compute local smoothness\n",
    "    \"\"\"\n",
    "    net.train()\n",
    "    # Get batch\n",
    "    num_examples = X.shape[0]\n",
    "    idxs = np.random.choice(num_examples, size=(batch_size,))\n",
    "    \n",
    "    X_batch = X[idxs]\n",
    "    y_batch = y[idxs]\n",
    "    \n",
    "    # Compute u\n",
    "    obj = compute_objective(net, X_batch, y_batch)\n",
    "    grad_u = torch.autograd.grad(outputs=obj, inputs=net.parameters())\n",
    "    curr_u = [-learning_rate * g for g in grad_u]\n",
    "    \n",
    "    # Compute f(w)\n",
    "    obj = compute_objective(net, X, y)\n",
    "    grad_f_w = torch.autograd.grad(outputs=obj, inputs=net.parameters())\n",
    "    net_copy = copy.deepcopy(net)\n",
    "    \n",
    "    # Update copy inplace\n",
    "    with torch.no_grad():\n",
    "        for (w, u) in zip(net_copy.parameters(), curr_u):\n",
    "            w += u\n",
    "    \n",
    "    # Get grad_f_w_u\n",
    "    new_obj = compute_objective(net_copy, X, y)\n",
    "    grad_f_w_u = torch.autograd.grad(outputs=new_obj, inputs=net_copy.parameters())\n",
    "    \n",
    "    # Compute loss\n",
    "    numerator = 0\n",
    "    for (w_u, w) in zip(grad_f_w_u, grad_f_w):\n",
    "        numerator += torch.linalg.norm(w_u - w)\n",
    "    numerator = torch.sqrt(numerator)\n",
    "    denominator = 0\n",
    "    for u in curr_u:\n",
    "        denominator += torch.linalg.norm(u)\n",
    "    denominator = torch.sqrt(denominator)\n",
    "    \n",
    "    local_smoothness = numerator / denominator\n",
    "    print('Local smoothness: ', str(local_smoothness))\n",
    "    \n",
    "    return local_smoothness"
   ]
  },
  {
   "cell_type": "markdown",
   "id": "d950c82c",
   "metadata": {},
   "source": [
    "Train basic `ConvNet` without `BatchNorm2d`"
   ]
  },
  {
   "cell_type": "code",
   "execution_count": null,
   "id": "f97ebde9",
   "metadata": {},
   "outputs": [],
   "source": [
    "basic_net = ConvNet()\n",
    "\n",
    "# Parameters\n",
    "LEARNING_RATE = 0.04\n",
    "BATCH_SIZE = 32\n",
    "MAX_PASSES = 5\n",
    "\n",
    "logs = []\n",
    "for i in range(MAX_PASSES):\n",
    "    model = minibatch_sgd_one_pass(basic_net, X_train, y_train, LEARNING_RATE, BATCH_SIZE)\n",
    "    logs.append(\n",
    "        compute_logs(basic_net, X_train, y_train, X_test, y_test, verbose=True)\n",
    "    )"
   ]
  }
 ],
 "metadata": {
  "kernelspec": {
   "display_name": "Python [conda env:data598]",
   "language": "python",
   "name": "conda-env-data598-py"
  },
  "language_info": {
   "codemirror_mode": {
    "name": "ipython",
    "version": 3
   },
   "file_extension": ".py",
   "mimetype": "text/x-python",
   "name": "python",
   "nbconvert_exporter": "python",
   "pygments_lexer": "ipython3",
   "version": "3.8.12"
  }
 },
 "nbformat": 4,
 "nbformat_minor": 5
}
