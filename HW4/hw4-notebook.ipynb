{
 "cells": [
  {
   "cell_type": "markdown",
   "id": "a6f70e01",
   "metadata": {},
   "source": [
    "Anushna Prakash  \n",
    "DATA 598 - Deep Learning  \n",
    "February 4th, 2022  \n",
    "# <center> Homework 4 </center>  \n",
    "## 1. Denoising AutoEncoders and Step Decay Learning Rates  \n",
    "\n",
    "- Use the `MNIST` dataset. Perform the same preprocessing as in this week’s lab.  \n",
    "- Use the same convolutional autoencoder as in this week’s lab, with a lower latent dimension of 40.  \n",
    "- As the corruption function $C( \\cdot)$, we zero out a randomly chosen $14 \\times 14$ patch in the original image. The code for this is provided in the lab again.  \n",
    "- Train the model for 40 epochs starting with $\\gamma_0 = 2.5 \\times 10^{−4}$ and take $t_{0} = 10$ (i.e., halve the learning rate every 10 epochs).  "
   ]
  },
  {
   "cell_type": "code",
   "execution_count": 1,
   "id": "4d6bc6b3",
   "metadata": {},
   "outputs": [],
   "source": [
    "import torch\n",
    "from torch.nn.functional import relu\n",
    "from torchvision.datasets import MNIST\n",
    "import numpy as np\n",
    "import pandas as pd\n",
    "\n",
    "import matplotlib.pyplot as plt\n",
    "%matplotlib inline"
   ]
  },
  {
   "cell_type": "markdown",
   "id": "34707c46",
   "metadata": {},
   "source": [
    "### Step 1: Import the data and preprocess.  \n",
    "Normalize the data over all the pixels, rather than a pixel-wise one."
   ]
  },
  {
   "cell_type": "code",
   "execution_count": 2,
   "id": "9117b2be",
   "metadata": {},
   "outputs": [
    {
     "name": "stdout",
     "output_type": "stream",
     "text": [
      "X_train.shape = torch.Size([6000, 28, 28])\n",
      "n_train: 6000, n_test: 10000\n",
      "Image size: torch.Size([28, 28])\n"
     ]
    },
    {
     "data": {
      "image/png": "[encoded data removed]",
      "text/plain": [
       "<Figure size 1440x288 with 5 Axes>"
      ]
     },
     "metadata": {
      "needs_background": "light"
     },
     "output_type": "display_data"
    }
   ],
   "source": [
    "# download dataset (~117M in size)\n",
    "train_dataset = MNIST('./data', train=True, download=True)\n",
    "X_train = train_dataset.data # torch tensor of type uint8\n",
    "y_train = train_dataset.targets # torch tensor of type Long\n",
    "test_dataset = MNIST('./data', train=False, download=True)\n",
    "X_test = test_dataset.data\n",
    "y_test = test_dataset.targets\n",
    "\n",
    "# choose a subsample of 10% of the data:\n",
    "idxs_train = torch.from_numpy(\n",
    "    np.random.choice(X_train.shape[0], replace=False, size=X_train.shape[0]//10)).long()\n",
    "X_train, y_train = X_train[idxs_train], y_train[idxs_train]\n",
    "# idxs_test = torch.from_numpy(\n",
    "#     np.random.choice(X_test.shape[0], replace=False, size=X_test.shape[0]//10))\n",
    "# X_test, y_test = X_test[idxs_test], y_test[idxs_test]\n",
    "\n",
    "print(f'X_train.shape = {X_train.shape}')\n",
    "print(f'n_train: {X_train.shape[0]}, n_test: {X_test.shape[0]}')\n",
    "print(f'Image size: {X_train.shape[1:]}')\n",
    "\n",
    "f, ax = plt.subplots(1, 5, figsize=(20, 4))\n",
    "for i, idx in enumerate(np.random.choice(X_train.shape[0], 5)):\n",
    "    ax[i].imshow(X_train[idx], cmap='gray', vmin=0, vmax=255)\n",
    "    ax[i].set_title(f'Label = {y_train[idx]}', fontsize=20)\n",
    "    \n",
    "# Normalize the data\n",
    "X_train = X_train.float()  # convert to float32\n",
    "# NOTE: we are returning a single mean/std over all the pixels, rather than a pixel-wise one\n",
    "mean, std = X_train.mean(), X_train.std()  \n",
    "X_train = (X_train - mean) / (std + 1e-6)  # avoid divide by zero\n",
    "\n",
    "X_test = X_test.float()\n",
    "X_test = (X_test - mean) / (std + 1e-6)"
   ]
  },
  {
   "cell_type": "markdown",
   "id": "fc4baef3",
   "metadata": {},
   "source": [
    "### Step 2: Create the AutoEncoder.  \n",
    "- `EncoderModule`  uses `stride=2`  \n",
    "- `DecoderModule` uses `stride=2` and `output_padding=1`  \n",
    "- `AutoEncoder` combines `EncoderModule` and `DecoderModule`  "
   ]
  },
  {
   "cell_type": "code",
   "execution_count": 3,
   "id": "26847982",
   "metadata": {},
   "outputs": [],
   "source": [
    "class EncoderModule(torch.nn.Module):\n",
    "    \"\"\"\n",
    "    Encodes batch images into lower dimensional space\n",
    "    \"\"\"\n",
    "    def __init__(self, lower_dimension):\n",
    "        super().__init__()\n",
    "        # (B, 1, 28, 28) -> (B, 4, 12, 12)\n",
    "        self.conv1 = torch.nn.Conv2d(1, 4, kernel_size=5, stride=2, padding=0) \n",
    "        # (B, 4, 12, 12) -> (B, 8, 5, 5)\n",
    "        self.conv2 = torch.nn.Conv2d(4, 8, kernel_size=3, stride=2, padding=0)\n",
    "        # Flatten (B, 8, 5, 5) -> (B, 8*5*5): do this in `forward()`\n",
    "        # (B, 8*5*5) -> (B, lower_dimension); 8*5*5 = 200\n",
    "        self.linear = torch.nn.Linear(200, lower_dimension)\n",
    "    \n",
    "    def forward(self, images):\n",
    "        out = relu(self.conv1(images))  # conv1 + relu\n",
    "        out = relu(self.conv2(out))  # conv2 + relu\n",
    "        out = out.view(out.shape[0], -1)  # flatten\n",
    "        out = self.linear(out)  # Linear\n",
    "        return out\n",
    "    \n",
    "class DecoderModule(torch.nn.Module):\n",
    "    \"\"\"\n",
    "    Decodes batch images back into original dimensional space\n",
    "    \"\"\"\n",
    "    def __init__(self, lower_dimension):\n",
    "        super().__init__()\n",
    "        # (B, lower_dimension) -> (B, linear)\n",
    "        self.linear_t = torch.nn.Linear(lower_dimension, 200)\n",
    "        # Unflatten (B, 8*5*5) -> (B, 8, 5, 5); do this in `forward()`\n",
    "        # Exercise: plug in the output_padding values you determined above\n",
    "        # (B, 8, 5, 5) -> (B, 4, 12, 12)\n",
    "        self.conv2_t = torch.nn.ConvTranspose2d(8, 4, kernel_size=3, stride=2, padding=0, output_padding=1)\n",
    "        # (B, 4, 12, 12) -> (B, 1, 28, 28)\n",
    "        self.conv1_t = torch.nn.ConvTranspose2d(4, 1, kernel_size=5, stride=2, padding=0, output_padding=1)\n",
    "\n",
    "    def forward(self, x):\n",
    "        # Apply in reverse order\n",
    "        out = relu(self.linear_t(x))  # linear_t + relu\n",
    "        out = out.view(out.shape[0], 8, 5, 5)  # Unflatten\n",
    "        out = relu(self.conv2_t(out))  # conv2_t + relu\n",
    "        out = self.conv1_t(out)  # conv1_t (note: no relu at the end)\n",
    "        return out\n",
    "\n",
    "class AutoEncoder(torch.nn.Module):\n",
    "    \"\"\"\n",
    "    Takes images in shape (B, 1, 28, 28)\n",
    "    Encodes down to (B, 8*5*5) for channels=8 of length lower_dimension\n",
    "    Decodes up from (B, 8*5*5) back to (B, 1, 28, 28)\n",
    "    \"\"\"\n",
    "    def __init__(self, lower_dimension):\n",
    "        super().__init__()\n",
    "        self.encoder = EncoderModule(lower_dimension)\n",
    "        self.decoder = DecoderModule(lower_dimension)\n",
    "        \n",
    "    def forward(self, images):\n",
    "        encoded_images = self.encoder(images)\n",
    "        decoded_images = self.decoder(encoded_images)\n",
    "        return decoded_images\n",
    "        \n",
    "    def encode_images(self, images):\n",
    "        \"\"\"\n",
    "        Encode images\n",
    "        \"\"\"\n",
    "        return self.encoder(images)\n",
    "    \n",
    "    def decode_representations(self, representations):\n",
    "        \"\"\"\n",
    "        Decode lower-dimensional representation\n",
    "        \"\"\"\n",
    "        return self.decoder(representations)"
   ]
  },
  {
   "cell_type": "markdown",
   "id": "745d2206",
   "metadata": {},
   "source": [
    "### Step 3: Corrupt images function  "
   ]
  },
  {
   "cell_type": "code",
   "execution_count": 4,
   "id": "26cd5ade",
   "metadata": {},
   "outputs": [],
   "source": [
    "def corrupt_image_batch(images):\n",
    "    \"\"\"\n",
    "    Takes a batch of images and randomly zeros 14x14 square of pixels\n",
    "    \"\"\"\n",
    "    # images: (B, 1, 28, 28)\n",
    "    patch_size = 14  # zero out a 14x14 patch\n",
    "    batch_size = images.shape[0]\n",
    "    height, width = images.shape[-2:]  # height and width of each image\n",
    "    starting_h = np.random.choice(height - patch_size, size=batch_size, replace=True)\n",
    "    starting_w = np.random.choice(width - patch_size, size=batch_size, replace=True)\n",
    "\n",
    "    images_corrupted = images.clone()  # corrupt a copy so we do not lose the originals\n",
    "    for b in range(batch_size):\n",
    "        h = starting_h[b]\n",
    "        w = starting_w[b]\n",
    "        images_corrupted[b, 0, h:h+patch_size, b:b+patch_size] = 0  # set to 0\n",
    "    return images_corrupted"
   ]
  },
  {
   "cell_type": "markdown",
   "id": "0cf777b8",
   "metadata": {},
   "source": [
    "### Step 4: Edit functions  \n",
    "$$\\min_{w,v} \\mathbb{E}_{x} = \\| x - g_{v} \\circ h_{w}(C(x)) \\| ^2$$"
   ]
  },
  {
   "cell_type": "code",
   "execution_count": 5,
   "id": "de4d7f33",
   "metadata": {},
   "outputs": [],
   "source": [
    "def loss_function(true_images, reconstructed_images):\n",
    "    \"\"\"\n",
    "    Takes the true images and the reconstructed corrupted images\n",
    "    Returns the squared loss\n",
    "    \"\"\"\n",
    "    residual = (true_images - reconstructed_images).view(-1)  # flatten into a vector\n",
    "    # return the average over examples\n",
    "    return 0.5 * torch.norm(residual) ** 2 / (true_images.shape[0])\n",
    "\n",
    "def compute_objective(model, true_images, corrupted_images):\n",
    "    \"\"\"\n",
    "    Takes original images and corrupted images.\n",
    "    Returns the objective.\n",
    "    \"\"\"\n",
    "    reconstructed_images = model(corrupted_images)\n",
    "    return loss_function(true_images, reconstructed_images)\n",
    "\n",
    "@torch.no_grad()\n",
    "def compute_logs(\n",
    "    model, train_true_images, train_corrupted_images, # training variables\n",
    "    test_true_images, test_corrupted_images, # test variables\n",
    "    verbose=False):\n",
    "    \"\"\"\n",
    "    Compute and return train and test loss\n",
    "    \"\"\"\n",
    "    train_loss = compute_objective(model, train_true_images, train_corrupted_images)\n",
    "    test_loss = compute_objective(model, test_true_images, test_corrupted_images)\n",
    "    \n",
    "    if verbose:\n",
    "        print('Train Loss = {:.3f}, Test Loss = {:.3f}, '.format(\n",
    "                train_loss.item(), test_loss.item(),\n",
    "    ))\n",
    "    \n",
    "    return (train_loss, test_loss)\n",
    "\n",
    "def minibatch_sgd_one_pass(model, true_images, corrupted_images, learning_rate, batch_size, verbose=False):\n",
    "    num_examples = corrupted_images.shape[0]\n",
    "    average_loss = 0.0\n",
    "    num_updates = int(round(num_examples / batch_size))\n",
    "    for i in range(num_updates):\n",
    "        idxs = np.random.choice(num_examples, size=(batch_size,))\n",
    "        # compute the objective. \n",
    "        objective = compute_objective(model, true_images[idxs], corrupted_images[idxs]) \n",
    "        average_loss = 0.99 * average_loss + 0.01 * objective.item()\n",
    "        if verbose and (i+1) % 100 == 0:\n",
    "            print(\"{:.3f}\".format(average_loss))\n",
    "         \n",
    "        # Perform the SGD update\n",
    "        gradients = torch.autograd.grad(outputs=objective, inputs=model.parameters())\n",
    "        with torch.no_grad():\n",
    "            for w, g in zip(model.parameters(), gradients):\n",
    "                w -= learning_rate * g\n",
    "    \n",
    "    return model"
   ]
  },
  {
   "cell_type": "markdown",
   "id": "d0f3c8b0",
   "metadata": {},
   "source": [
    "### Step 5:  Train the model  \n",
    "- 40 epochs starting with $\\gamma_0 = 2.5 \\times 10^{−4}$ and take $t_{0} = 10$ (i.e., halve the learning rate every 10 epochs).   "
   ]
  },
  {
   "cell_type": "code",
   "execution_count": 6,
   "id": "84eba509",
   "metadata": {},
   "outputs": [],
   "source": [
    "# Add channel = 1 dimension to data\n",
    "X_train = X_train.unsqueeze(1)\n",
    "X_test = X_test.unsqueeze(1)\n",
    "# Create corrupted data\n",
    "C_X_train = corrupt_image_batch(X_train)\n",
    "C_X_test = corrupt_image_batch(X_test)"
   ]
  },
  {
   "cell_type": "code",
   "execution_count": 11,
   "id": "518db453",
   "metadata": {},
   "outputs": [
    {
     "name": "stdout",
     "output_type": "stream",
     "text": [
      "gamma = 0.00025\n",
      "Train Loss = 73.191, Test Loss = 72.821, \n",
      "Train Loss = 60.871, Test Loss = 60.693, \n",
      "Train Loss = 52.709, Test Loss = 52.759, \n",
      "Train Loss = 51.149, Test Loss = 51.215, \n",
      "Train Loss = 47.303, Test Loss = 47.456, \n",
      "Train Loss = 45.953, Test Loss = 46.151, \n",
      "Train Loss = 45.892, Test Loss = 46.285, \n",
      "Train Loss = 43.910, Test Loss = 44.262, \n",
      "Train Loss = 44.291, Test Loss = 44.744, \n",
      "Train Loss = 43.916, Test Loss = 44.397, \n",
      "gamma = 0.000125\n",
      "Train Loss = 39.951, Test Loss = 40.402, \n",
      "Train Loss = 39.301, Test Loss = 39.761, \n",
      "Train Loss = 39.560, Test Loss = 40.089, \n",
      "Train Loss = 39.280, Test Loss = 39.813, \n",
      "Train Loss = 38.980, Test Loss = 39.579, \n",
      "Train Loss = 39.027, Test Loss = 39.667, \n",
      "Train Loss = 38.591, Test Loss = 39.251, \n",
      "Train Loss = 40.162, Test Loss = 40.793, \n",
      "Train Loss = 38.244, Test Loss = 38.950, \n",
      "Train Loss = 38.456, Test Loss = 39.129, \n",
      "gamma = 6.25e-05\n",
      "Train Loss = 37.420, Test Loss = 38.114, \n",
      "Train Loss = 37.383, Test Loss = 38.127, \n",
      "Train Loss = 37.313, Test Loss = 38.033, \n",
      "Train Loss = 37.122, Test Loss = 37.854, \n",
      "Train Loss = 37.108, Test Loss = 37.851, \n",
      "Train Loss = 37.014, Test Loss = 37.782, \n",
      "Train Loss = 37.079, Test Loss = 37.848, \n",
      "Train Loss = 36.871, Test Loss = 37.679, \n",
      "Train Loss = 36.809, Test Loss = 37.603, \n",
      "Train Loss = 36.844, Test Loss = 37.679, \n",
      "gamma = 3.125e-05\n",
      "Train Loss = 36.367, Test Loss = 37.195, \n",
      "Train Loss = 36.393, Test Loss = 37.216, \n",
      "Train Loss = 36.324, Test Loss = 37.159, \n",
      "Train Loss = 36.329, Test Loss = 37.175, \n",
      "Train Loss = 36.357, Test Loss = 37.186, \n",
      "Train Loss = 36.319, Test Loss = 37.206, \n",
      "Train Loss = 36.218, Test Loss = 37.061, \n",
      "Train Loss = 36.241, Test Loss = 37.103, \n",
      "Train Loss = 36.184, Test Loss = 37.051, \n",
      "Train Loss = 36.180, Test Loss = 37.028, \n"
     ]
    }
   ],
   "source": [
    "# Train model\n",
    "ae_model = AutoEncoder(lower_dimension=40)\n",
    "EPOCHS = 40\n",
    "T_0 = 10\n",
    "gamma = 2.5 * 10e-5 * 2 # This will be halved in the first iteration\n",
    "\n",
    "logs = []\n",
    "\n",
    "for i in range(EPOCHS):\n",
    "    # Update learning rate parameter every T_0 epochs\n",
    "    if i % T_0 == 0:\n",
    "        gamma = gamma / 2\n",
    "        print(f'gamma = {gamma}')\n",
    "    \n",
    "    ae_model = minibatch_sgd_one_pass(ae_model, X_train, C_X_train, gamma, batch_size=1)\n",
    "    logs.append(compute_logs(ae_model, X_train, C_X_train, X_test, C_X_test, verbose=True))"
   ]
  },
  {
   "cell_type": "code",
   "execution_count": 8,
   "id": "2daa4cf0",
   "metadata": {},
   "outputs": [
    {
     "data": {
      "text/plain": [
       "Text(0.5, 0, 'Iterations')"
      ]
     },
     "execution_count": 8,
     "metadata": {},
     "output_type": "execute_result"
    },
    {
     "data": {
      "image/png": "[encoded data removed]",
      "text/plain": [
       "<Figure size 1152x576 with 1 Axes>"
      ]
     },
     "metadata": {
      "needs_background": "light"
     },
     "output_type": "display_data"
    }
   ],
   "source": [
    "fig = plt.figure(figsize = (16, 8))\n",
    "\n",
    "plt.plot(np.asarray(logs)[:, 0], label='Train')\n",
    "plt.plot(np.asarray(logs)[:, 1], label='Test')\n",
    "plt.legend(fontsize=12)\n",
    "plt.title('Loss over epochs', fontsize=12)\n",
    "plt.ylabel('Loss', fontsize=12)\n",
    "plt.xlabel('Iterations', fontsize=12)"
   ]
  }
 ],
 "metadata": {
  "kernelspec": {
   "display_name": "Python [conda env:data598]",
   "language": "python",
   "name": "conda-env-data598-py"
  },
  "language_info": {
   "codemirror_mode": {
    "name": "ipython",
    "version": 3
   },
   "file_extension": ".py",
   "mimetype": "text/x-python",
   "name": "python",
   "nbconvert_exporter": "python",
   "pygments_lexer": "ipython3",
   "version": "3.8.12"
  }
 },
 "nbformat": 4,
 "nbformat_minor": 5
}
