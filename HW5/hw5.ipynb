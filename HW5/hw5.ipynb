{
 "cells": [
  {
   "cell_type": "markdown",
   "metadata": {},
   "source": [
    "<center>  <h1> Data 598 (Winter 2022): HW5 </h1> </center> \n",
    "    <center> University of Washington </center>\n",
    "    \n",
    "Please fill out all the `TODO`s in the notebook below. "
   ]
  },
  {
   "cell_type": "markdown",
   "metadata": {},
   "source": [
    "# Coding up a differentiable module\n",
    "\n",
    "Consider the soft-thresholding function $f_T: \\mathbb{R} \\to \\mathbb{R}$ defined for any $T > 0$ as \n",
    "$$\n",
    "    f_T(y) = \n",
    "    \\begin{cases} \n",
    "        0, & \\text{ if } -T \\le y \\le T \\,, \\\\\n",
    "        y - T, & \\text{ if } y > T \\,, \\\\\n",
    "        y + T, & \\text{ if } y < T \\,.\n",
    "    \\end{cases}\n",
    "$$\n",
    "\n",
    "See the image below for $T=3$. \n",
    "<img src=\"https://d3i71xaburhd42.cloudfront.net/32c265c127e6985e365b93158123655e13768ea4/6-Figure2-1.png\" width=\"300\">\n",
    "\n"
   ]
  },
  {
   "cell_type": "markdown",
   "metadata": {},
   "source": [
    "**A)** Write a function to compute which takes in as arguments $y, T$ and returns the soft-thresholding $f_T(y)$.\n",
    "    Plot this function with $T = 3.14$ in the range $[-10, 10]$."
   ]
  },
  {
   "cell_type": "code",
   "execution_count": 1,
   "metadata": {},
   "outputs": [
    {
     "name": "stdout",
     "output_type": "stream",
     "text": [
      "tensor(3.1416, requires_grad=True)\n"
     ]
    }
   ],
   "source": [
    "import numpy as np\n",
    "import torch\n",
    "\n",
    "# Example of PyTorch Scalar\n",
    "x = torch.tensor(3.14159, requires_grad=True)\n",
    "print(x)"
   ]
  },
  {
   "cell_type": "code",
   "execution_count": 26,
   "metadata": {},
   "outputs": [],
   "source": [
    "import matplotlib.pyplot as plt\n",
    "def softt(y, T):\n",
    "    \"\"\" `y` is a torch.tensor (i.e., PyTorch's scalar type; same as above), \n",
    "        `T` is a regular Python number (float or int).\n",
    "        return type: torch.tensor\n",
    "    \"\"\"\n",
    "#     if y > T:\n",
    "#         return torch.add(y, -T)\n",
    "#     elif y < -T:\n",
    "#         return torch.add(y, T)\n",
    "#     else:\n",
    "#         return torch.zeros_like(y, requires_grad=True)\n",
    "    return torch.where(\n",
    "        y > T, torch.add(y, -T), # if y > T then y - T\n",
    "        torch.where(y < -T, torch.add(y, T), # elif y < -T then y + T\n",
    "                    torch.zeros_like(torch.tensor(0.), requires_grad=True) # else 0\n",
    "                   )\n",
    "    )"
   ]
  },
  {
   "cell_type": "markdown",
   "metadata": {},
   "source": [
    "**B)** Write a function which computes the derivate $f_T'(y)$ of the soft-thresholding function w.r.t. $y$, as returned by PyTorch. Plot this for $T=3.14$ in the range $[-10, 10]$. \n",
    "\n",
    "**Hint 1**: If you coded up `softt` using branches, you might encounter a situation where the output does not depend on the input. In this case, you will have to appropriately set the `allow_unused` flag. \n",
    "\n",
    "**Hint 2**: When PyTorch returns a derivative of `None`, it actually stands for `0`. If your derivative returns a `None`, you will have to handle this appropriately when plotting the function."
   ]
  },
  {
   "cell_type": "code",
   "execution_count": 32,
   "metadata": {},
   "outputs": [
    {
     "name": "stdout",
     "output_type": "stream",
     "text": [
      "(tensor(0.),)\n"
     ]
    },
    {
     "data": {
      "text/plain": [
       "Text(0.5, 1.0, 'Soft thresholding derivative with $T=3.14$')"
      ]
     },
     "execution_count": 32,
     "metadata": {},
     "output_type": "execute_result"
    },
    {
     "data": {
      "image/png": "[encoded data removed]",
      "text/plain": [
       "<Figure size 432x288 with 1 Axes>"
      ]
     },
     "metadata": {
      "needs_background": "light"
     },
     "output_type": "display_data"
    }
   ],
   "source": [
    "def softt_derivative(y, T): \n",
    "    # TODO: your code here\n",
    "    # Call torch.autograd.grad to compute the derivative\n",
    "    f = softt(y, T)\n",
    "    grad = torch.autograd.grad(outputs=f, inputs=y, allow_unused=True)\n",
    "    return grad\n",
    "\n",
    "# Test your code\n",
    "a = torch.tensor(1.2, requires_grad=True)\n",
    "print(softt_derivative(a, 1.2))\n",
    "\n",
    "# Plot\n",
    "# TODO: your code here\n",
    "ys = torch.linspace(-10, 10, 1000, requires_grad=True)\n",
    "grads = [softt_derivative(y, 3.14) for y in ys]\n",
    "plt.plot(ys.detach().numpy(), np.asarray(grads))\n",
    "plt.title('Soft thresholding derivative with $T=3.14$')"
   ]
  },
  {
   "cell_type": "code",
   "execution_count": 27,
   "metadata": {},
   "outputs": [
    {
     "data": {
      "text/plain": [
       "tensor([-6.8600, -6.8400, -6.8200, -6.7999, -6.7799, -6.7599, -6.7399, -6.7199,\n",
       "        -6.6998, -6.6798, -6.6598, -6.6398, -6.6198, -6.5997, -6.5797, -6.5597,\n",
       "        -6.5397, -6.5197, -6.4996, -6.4796, -6.4596, -6.4396, -6.4196, -6.3995,\n",
       "        -6.3795, -6.3595, -6.3395, -6.3195, -6.2994, -6.2794, -6.2594, -6.2394,\n",
       "        -6.2194, -6.1993, -6.1793, -6.1593, -6.1393, -6.1193, -6.0992, -6.0792,\n",
       "        -6.0592, -6.0392, -6.0192, -5.9991, -5.9791, -5.9591, -5.9391, -5.9191,\n",
       "        -5.8990, -5.8790, -5.8590, -5.8390, -5.8190, -5.7989, -5.7789, -5.7589,\n",
       "        -5.7389, -5.7189, -5.6988, -5.6788, -5.6588, -5.6388, -5.6188, -5.5987,\n",
       "        -5.5787, -5.5587, -5.5387, -5.5187, -5.4986, -5.4786, -5.4586, -5.4386,\n",
       "        -5.4186, -5.3985, -5.3785, -5.3585, -5.3385, -5.3185, -5.2984, -5.2784,\n",
       "        -5.2584, -5.2384, -5.2184, -5.1983, -5.1783, -5.1583, -5.1383, -5.1183,\n",
       "        -5.0982, -5.0782, -5.0582, -5.0382, -5.0182, -4.9981, -4.9781, -4.9581,\n",
       "        -4.9381, -4.9181, -4.8980, -4.8780, -4.8580, -4.8380, -4.8180, -4.7979,\n",
       "        -4.7779, -4.7579, -4.7379, -4.7179, -4.6978, -4.6778, -4.6578, -4.6378,\n",
       "        -4.6178, -4.5977, -4.5777, -4.5577, -4.5377, -4.5177, -4.4976, -4.4776,\n",
       "        -4.4576, -4.4376, -4.4176, -4.3975, -4.3775, -4.3575, -4.3375, -4.3175,\n",
       "        -4.2974, -4.2774, -4.2574, -4.2374, -4.2174, -4.1973, -4.1773, -4.1573,\n",
       "        -4.1373, -4.1173, -4.0972, -4.0772, -4.0572, -4.0372, -4.0172, -3.9971,\n",
       "        -3.9771, -3.9571, -3.9371, -3.9171, -3.8970, -3.8770, -3.8570, -3.8370,\n",
       "        -3.8170, -3.7969, -3.7769, -3.7569, -3.7369, -3.7169, -3.6968, -3.6768,\n",
       "        -3.6568, -3.6368, -3.6168, -3.5967, -3.5767, -3.5567, -3.5367, -3.5167,\n",
       "        -3.4966, -3.4766, -3.4566, -3.4366, -3.4166, -3.3965, -3.3765, -3.3565,\n",
       "        -3.3365, -3.3165, -3.2964, -3.2764, -3.2564, -3.2364, -3.2164, -3.1963,\n",
       "        -3.1763, -3.1563, -3.1363, -3.1163, -3.0962, -3.0762, -3.0562, -3.0362,\n",
       "        -3.0162, -2.9961, -2.9761, -2.9561, -2.9361, -2.9161, -2.8960, -2.8760,\n",
       "        -2.8560, -2.8360, -2.8160, -2.7959, -2.7759, -2.7559, -2.7359, -2.7159,\n",
       "        -2.6958, -2.6758, -2.6558, -2.6358, -2.6158, -2.5957, -2.5757, -2.5557,\n",
       "        -2.5357, -2.5157, -2.4956, -2.4756, -2.4556, -2.4356, -2.4156, -2.3955,\n",
       "        -2.3755, -2.3555, -2.3355, -2.3155, -2.2954, -2.2754, -2.2554, -2.2354,\n",
       "        -2.2154, -2.1953, -2.1753, -2.1553, -2.1353, -2.1153, -2.0952, -2.0752,\n",
       "        -2.0552, -2.0352, -2.0152, -1.9951, -1.9751, -1.9551, -1.9351, -1.9151,\n",
       "        -1.8950, -1.8750, -1.8550, -1.8350, -1.8150, -1.7949, -1.7749, -1.7549,\n",
       "        -1.7349, -1.7149, -1.6948, -1.6748, -1.6548, -1.6348, -1.6148, -1.5947,\n",
       "        -1.5747, -1.5547, -1.5347, -1.5147, -1.4946, -1.4746, -1.4546, -1.4346,\n",
       "        -1.4146, -1.3945, -1.3745, -1.3545, -1.3345, -1.3145, -1.2944, -1.2744,\n",
       "        -1.2544, -1.2344, -1.2144, -1.1943, -1.1743, -1.1543, -1.1343, -1.1143,\n",
       "        -1.0942, -1.0742, -1.0542, -1.0342, -1.0142, -0.9941, -0.9741, -0.9541,\n",
       "        -0.9341, -0.9141, -0.8940, -0.8740, -0.8540, -0.8340, -0.8140, -0.7939,\n",
       "        -0.7739, -0.7539, -0.7339, -0.7139, -0.6938, -0.6738, -0.6538, -0.6338,\n",
       "        -0.6138, -0.5937, -0.5737, -0.5537, -0.5337, -0.5137, -0.4936, -0.4736,\n",
       "        -0.4536, -0.4336, -0.4136, -0.3935, -0.3735, -0.3535, -0.3335, -0.3135,\n",
       "        -0.2934, -0.2734, -0.2534, -0.2334, -0.2134, -0.1933, -0.1733, -0.1533,\n",
       "        -0.1333, -0.1133, -0.0932, -0.0732, -0.0532, -0.0332, -0.0132,  0.0000,\n",
       "         0.0000,  0.0000,  0.0000,  0.0000,  0.0000,  0.0000,  0.0000,  0.0000,\n",
       "         0.0000,  0.0000,  0.0000,  0.0000,  0.0000,  0.0000,  0.0000,  0.0000,\n",
       "         0.0000,  0.0000,  0.0000,  0.0000,  0.0000,  0.0000,  0.0000,  0.0000,\n",
       "         0.0000,  0.0000,  0.0000,  0.0000,  0.0000,  0.0000,  0.0000,  0.0000,\n",
       "         0.0000,  0.0000,  0.0000,  0.0000,  0.0000,  0.0000,  0.0000,  0.0000,\n",
       "         0.0000,  0.0000,  0.0000,  0.0000,  0.0000,  0.0000,  0.0000,  0.0000,\n",
       "         0.0000,  0.0000,  0.0000,  0.0000,  0.0000,  0.0000,  0.0000,  0.0000,\n",
       "         0.0000,  0.0000,  0.0000,  0.0000,  0.0000,  0.0000,  0.0000,  0.0000,\n",
       "         0.0000,  0.0000,  0.0000,  0.0000,  0.0000,  0.0000,  0.0000,  0.0000,\n",
       "         0.0000,  0.0000,  0.0000,  0.0000,  0.0000,  0.0000,  0.0000,  0.0000,\n",
       "         0.0000,  0.0000,  0.0000,  0.0000,  0.0000,  0.0000,  0.0000,  0.0000,\n",
       "         0.0000,  0.0000,  0.0000,  0.0000,  0.0000,  0.0000,  0.0000,  0.0000,\n",
       "         0.0000,  0.0000,  0.0000,  0.0000,  0.0000,  0.0000,  0.0000,  0.0000,\n",
       "         0.0000,  0.0000,  0.0000,  0.0000,  0.0000,  0.0000,  0.0000,  0.0000,\n",
       "         0.0000,  0.0000,  0.0000,  0.0000,  0.0000,  0.0000,  0.0000,  0.0000,\n",
       "         0.0000,  0.0000,  0.0000,  0.0000,  0.0000,  0.0000,  0.0000,  0.0000,\n",
       "         0.0000,  0.0000,  0.0000,  0.0000,  0.0000,  0.0000,  0.0000,  0.0000,\n",
       "         0.0000,  0.0000,  0.0000,  0.0000,  0.0000,  0.0000,  0.0000,  0.0000,\n",
       "         0.0000,  0.0000,  0.0000,  0.0000,  0.0000,  0.0000,  0.0000,  0.0000,\n",
       "         0.0000,  0.0000,  0.0000,  0.0000,  0.0000,  0.0000,  0.0000,  0.0000,\n",
       "         0.0000,  0.0000,  0.0000,  0.0000,  0.0000,  0.0000,  0.0000,  0.0000,\n",
       "         0.0000,  0.0000,  0.0000,  0.0000,  0.0000,  0.0000,  0.0000,  0.0000,\n",
       "         0.0000,  0.0000,  0.0000,  0.0000,  0.0000,  0.0000,  0.0000,  0.0000,\n",
       "         0.0000,  0.0000,  0.0000,  0.0000,  0.0000,  0.0000,  0.0000,  0.0000,\n",
       "         0.0000,  0.0000,  0.0000,  0.0000,  0.0000,  0.0000,  0.0000,  0.0000,\n",
       "         0.0000,  0.0000,  0.0000,  0.0000,  0.0000,  0.0000,  0.0000,  0.0000,\n",
       "         0.0000,  0.0000,  0.0000,  0.0000,  0.0000,  0.0000,  0.0000,  0.0000,\n",
       "         0.0000,  0.0000,  0.0000,  0.0000,  0.0000,  0.0000,  0.0000,  0.0000,\n",
       "         0.0000,  0.0000,  0.0000,  0.0000,  0.0000,  0.0000,  0.0000,  0.0000,\n",
       "         0.0000,  0.0000,  0.0000,  0.0000,  0.0000,  0.0000,  0.0000,  0.0000,\n",
       "         0.0000,  0.0000,  0.0000,  0.0000,  0.0000,  0.0000,  0.0000,  0.0000,\n",
       "         0.0000,  0.0000,  0.0000,  0.0000,  0.0000,  0.0000,  0.0000,  0.0000,\n",
       "         0.0000,  0.0000,  0.0000,  0.0000,  0.0000,  0.0000,  0.0000,  0.0000,\n",
       "         0.0000,  0.0000,  0.0000,  0.0000,  0.0000,  0.0000,  0.0000,  0.0000,\n",
       "         0.0000,  0.0000,  0.0000,  0.0000,  0.0000,  0.0000,  0.0000,  0.0000,\n",
       "         0.0000,  0.0000,  0.0000,  0.0000,  0.0000,  0.0000,  0.0000,  0.0000,\n",
       "         0.0000,  0.0000,  0.0000,  0.0000,  0.0000,  0.0000,  0.0000,  0.0000,\n",
       "         0.0000,  0.0000,  0.0000,  0.0000,  0.0000,  0.0000,  0.0000,  0.0000,\n",
       "         0.0000,  0.0000,  0.0000,  0.0000,  0.0000,  0.0000,  0.0000,  0.0000,\n",
       "         0.0000,  0.0132,  0.0332,  0.0532,  0.0732,  0.0932,  0.1133,  0.1333,\n",
       "         0.1533,  0.1733,  0.1933,  0.2134,  0.2334,  0.2534,  0.2734,  0.2934,\n",
       "         0.3135,  0.3335,  0.3535,  0.3735,  0.3935,  0.4136,  0.4336,  0.4536,\n",
       "         0.4736,  0.4936,  0.5137,  0.5337,  0.5537,  0.5737,  0.5937,  0.6138,\n",
       "         0.6338,  0.6538,  0.6738,  0.6938,  0.7139,  0.7339,  0.7539,  0.7739,\n",
       "         0.7939,  0.8140,  0.8340,  0.8540,  0.8740,  0.8940,  0.9141,  0.9341,\n",
       "         0.9541,  0.9741,  0.9941,  1.0142,  1.0342,  1.0542,  1.0742,  1.0942,\n",
       "         1.1143,  1.1343,  1.1543,  1.1743,  1.1943,  1.2144,  1.2344,  1.2544,\n",
       "         1.2744,  1.2944,  1.3145,  1.3345,  1.3545,  1.3745,  1.3945,  1.4146,\n",
       "         1.4346,  1.4546,  1.4746,  1.4946,  1.5147,  1.5347,  1.5547,  1.5747,\n",
       "         1.5947,  1.6148,  1.6348,  1.6548,  1.6748,  1.6948,  1.7149,  1.7349,\n",
       "         1.7549,  1.7749,  1.7949,  1.8150,  1.8350,  1.8550,  1.8750,  1.8950,\n",
       "         1.9151,  1.9351,  1.9551,  1.9751,  1.9951,  2.0152,  2.0352,  2.0552,\n",
       "         2.0752,  2.0952,  2.1153,  2.1353,  2.1553,  2.1753,  2.1953,  2.2154,\n",
       "         2.2354,  2.2554,  2.2754,  2.2954,  2.3155,  2.3355,  2.3555,  2.3755,\n",
       "         2.3955,  2.4156,  2.4356,  2.4556,  2.4756,  2.4956,  2.5157,  2.5357,\n",
       "         2.5557,  2.5757,  2.5957,  2.6158,  2.6358,  2.6558,  2.6758,  2.6958,\n",
       "         2.7159,  2.7359,  2.7559,  2.7759,  2.7959,  2.8160,  2.8360,  2.8560,\n",
       "         2.8760,  2.8960,  2.9161,  2.9361,  2.9561,  2.9761,  2.9961,  3.0162,\n",
       "         3.0362,  3.0562,  3.0762,  3.0962,  3.1163,  3.1363,  3.1563,  3.1763,\n",
       "         3.1963,  3.2164,  3.2364,  3.2564,  3.2764,  3.2964,  3.3165,  3.3365,\n",
       "         3.3565,  3.3765,  3.3965,  3.4166,  3.4366,  3.4566,  3.4766,  3.4966,\n",
       "         3.5167,  3.5367,  3.5567,  3.5767,  3.5967,  3.6168,  3.6368,  3.6568,\n",
       "         3.6768,  3.6968,  3.7169,  3.7369,  3.7569,  3.7769,  3.7969,  3.8170,\n",
       "         3.8370,  3.8570,  3.8770,  3.8970,  3.9171,  3.9371,  3.9571,  3.9771,\n",
       "         3.9971,  4.0172,  4.0372,  4.0572,  4.0772,  4.0972,  4.1173,  4.1373,\n",
       "         4.1573,  4.1773,  4.1973,  4.2174,  4.2374,  4.2574,  4.2774,  4.2974,\n",
       "         4.3175,  4.3375,  4.3575,  4.3775,  4.3975,  4.4176,  4.4376,  4.4576,\n",
       "         4.4776,  4.4976,  4.5177,  4.5377,  4.5577,  4.5777,  4.5977,  4.6178,\n",
       "         4.6378,  4.6578,  4.6778,  4.6978,  4.7179,  4.7379,  4.7579,  4.7779,\n",
       "         4.7979,  4.8180,  4.8380,  4.8580,  4.8780,  4.8980,  4.9181,  4.9381,\n",
       "         4.9581,  4.9781,  4.9981,  5.0182,  5.0382,  5.0582,  5.0782,  5.0982,\n",
       "         5.1183,  5.1383,  5.1583,  5.1783,  5.1983,  5.2184,  5.2384,  5.2584,\n",
       "         5.2784,  5.2984,  5.3185,  5.3385,  5.3585,  5.3785,  5.3985,  5.4186,\n",
       "         5.4386,  5.4586,  5.4786,  5.4986,  5.5187,  5.5387,  5.5587,  5.5787,\n",
       "         5.5987,  5.6188,  5.6388,  5.6588,  5.6788,  5.6988,  5.7189,  5.7389,\n",
       "         5.7589,  5.7789,  5.7989,  5.8190,  5.8390,  5.8590,  5.8790,  5.8990,\n",
       "         5.9191,  5.9391,  5.9591,  5.9791,  5.9991,  6.0192,  6.0392,  6.0592,\n",
       "         6.0792,  6.0992,  6.1193,  6.1393,  6.1593,  6.1793,  6.1993,  6.2194,\n",
       "         6.2394,  6.2594,  6.2794,  6.2994,  6.3195,  6.3395,  6.3595,  6.3795,\n",
       "         6.3995,  6.4196,  6.4396,  6.4596,  6.4796,  6.4996,  6.5197,  6.5397,\n",
       "         6.5597,  6.5797,  6.5997,  6.6198,  6.6398,  6.6598,  6.6798,  6.6998,\n",
       "         6.7199,  6.7399,  6.7599,  6.7799,  6.7999,  6.8200,  6.8400,  6.8600],\n",
       "       grad_fn=<SWhereBackward0>)"
      ]
     },
     "execution_count": 27,
     "metadata": {},
     "output_type": "execute_result"
    }
   ],
   "source": [
    "softt(ys, 3.14)"
   ]
  },
  {
   "cell_type": "markdown",
   "metadata": {},
   "source": [
    "**C)** We will now code a differentiable module using `torch.nn.Module`. \n",
    "\n",
    "First, let us extend the definition of \n",
    "the soft-thresholding $f_T$ to vectors by applying the soft-thresholding operation component-wise. \n",
    "\n",
    "Now write a differentiable module which implements the transformation $g_{T}(x, A; M)$ given by \n",
    "$$\n",
    "    g_{T}(x, A; M) = M^{-1} \\, f_T\\big( (A^{-1} A)^n  Mx \\big) \\,,\n",
    "$$\n",
    "\n",
    "where $n=10000$ is given. Note that we can simplify $ A^{-1} A = I$ to obtain the same result. However, our chain (going right to left) contains the repetitive and unnecessary computation of multiplying $Mx$ by $A$ and then immediately undoing it by multiplying by $A^{-1}$. \n",
    "\n",
    "Note that $x \\in \\mathbb{R}^d$ is a vector, $A \\in \\mathbb{R}^{d\\times d}$ is an invertible matrix and the output is a vector is a vector in $\\mathbb{R}^d$.\n",
    "\n",
    "Here, $M \\in \\mathbb{R}^{d \\times d}$, a symmetric matrix, is a *parameter* of the module. (Recall: parameters maintain state of the module; register a parameter in `torch.nn.Module` by using the `torch.nn.Parameter` wrapper).\n",
    "\n",
    "Supply $T > 0$ and and initial value $M_0 \\in \\mathbb{R}^{d \\times d}$ symmetric to the constructor, while the `forward` method only accepts $x \\in \\mathbb{R}^d$ as an input. \n",
    "\n",
    "You may use the function `create_symmetric_invertible_matrix` to initialize this matrix `M` in the constructor."
   ]
  },
  {
   "cell_type": "code",
   "execution_count": null,
   "metadata": {},
   "outputs": [],
   "source": [
    "class WastefulMatmulSofttMatmulinv(torch.nn.Module):\n",
    "    #### TODO: your code here\n",
    "    def __init__(self, M, T, n):\n",
    "        super.__init__()\n",
    "        self.M = torch.nn.parameter(M)\n",
    "        self.T = T\n",
    "        self.n = n\n",
    "    \n",
    "    def forward(self, x, A):\n",
    "        res = torch.matmul(self.M, x)\n",
    "        "
   ]
  },
  {
   "cell_type": "markdown",
   "metadata": {},
   "source": [
    "**D)** Initialize the module with $T = 3.14$ and $M_0$ using the function `create_symmetric_invertible_matrix` with `seed=0`.  \n",
    "Use `dimension=5`. Pass in the following vector `x` and matrix `A` defined below and compute $g_T(x, A;M_0)$."
   ]
  },
  {
   "cell_type": "code",
   "execution_count": null,
   "metadata": {},
   "outputs": [],
   "source": [
    "import numpy as np\n",
    "def create_symmetric_invertible_matrix(dimension, seed=0):\n",
    "    # return symmetric invertible square matrix of size `dimension` x `dimension`\n",
    "    rng = np.random.RandomState(dimension + seed)\n",
    "    factor = rng.randn(dimension, dimension)  # use dtype double\n",
    "    return 1e-6 * torch.eye(dimension) + torch.from_numpy(np.matmul(factor, factor.T))\n",
    "\n",
    "dimension = 5\n",
    "x = torch.DoubleTensor([0.1, 5, -2.3, -1, -2]).requires_grad_(True)  # use dtype double\n",
    "A = create_symmetric_invertible_matrix(dimension, seed=10).requires_grad_(True)\n",
    "print('x:', x)\n",
    "# TODO: your code here using `WastefulMatmulSofttMatmulinv`"
   ]
  },
  {
   "cell_type": "markdown",
   "metadata": {},
   "source": [
    "**E)** For the same vector `x` as defined above, compute and print out the gradient of $\\varphi_T(x, A; M) = \\|x - g_T(x, A; M)\\|_2^2$\n",
    "with respect to $x$, $A$, and $M$ using automatic differentiation. Use $T=3.14$ again.\n",
    "\n",
    "Time the computation of the gradient using Python's `time` module. "
   ]
  },
  {
   "cell_type": "code",
   "execution_count": null,
   "metadata": {},
   "outputs": [],
   "source": [
    "import time \n",
    "# TODO: your code here"
   ]
  },
  {
   "cell_type": "markdown",
   "metadata": {},
   "source": [
    "**F)** Repeat parts C-E above but with an efficient version of `WastefulMatmulSofttMatmulinv` that utilizes the simplification $A^{-1} A = I$ to return the exact same output. \n",
    "\n",
    "Note how much time the computation of the gradient takes. Why do you observe the discrepancy in the run times? Do you observe any discrepancy in the gradients? If yes, why? \n",
    "\n",
    "**Hint**: Set the flag `allow_unused=True` in the call to `torch.auto.grad`. "
   ]
  },
  {
   "cell_type": "code",
   "execution_count": null,
   "metadata": {},
   "outputs": [],
   "source": [
    "class EfficientMatmulSofttMatmulinv(torch.nn.Module):\n",
    "    #### TODO: your code here"
   ]
  },
  {
   "cell_type": "code",
   "execution_count": null,
   "metadata": {},
   "outputs": [],
   "source": [
    "# TODO: your code here with EfficientMatmulSofttMatmulinv\n"
   ]
  },
  {
   "cell_type": "code",
   "execution_count": null,
   "metadata": {},
   "outputs": [],
   "source": [
    "# TODO: check the difference of gradients from EfficientMatmulSofttMatmulinv and WastefulMatmulSofttMatmulinv\n"
   ]
  },
  {
   "cell_type": "code",
   "execution_count": null,
   "metadata": {},
   "outputs": [],
   "source": []
  }
 ],
 "metadata": {
  "kernelspec": {
   "display_name": "Python [conda env:data598]",
   "language": "python",
   "name": "conda-env-data598-py"
  },
  "language_info": {
   "codemirror_mode": {
    "name": "ipython",
    "version": 3
   },
   "file_extension": ".py",
   "mimetype": "text/x-python",
   "name": "python",
   "nbconvert_exporter": "python",
   "pygments_lexer": "ipython3",
   "version": "3.8.12"
  }
 },
 "nbformat": 4,
 "nbformat_minor": 4
}
