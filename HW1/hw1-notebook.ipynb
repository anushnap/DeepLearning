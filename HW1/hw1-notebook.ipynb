{
 "cells": [
  {
   "cell_type": "markdown",
   "id": "ef3ea2f1",
   "metadata": {},
   "source": [
    "Anushna Prakash  \n",
    "DATA 598: Deep Learning  \n",
    "January 14, 2022  \n",
    "# <center> Homework 1  \n",
    "## Part I: Performance vs. Width\n",
    "\n",
    "In this exercise, we will experiment with the number of hidden units in a multilayer perceptron (MLP) with a single hidden layer. The number of hidden units is also referred to the width of the hidden layer. Here are the details:  \n",
    "- The setup is identical to the demo/lab and you may reuse that code. Take the FashionMNIST dataset and randomly subsample 10% of its training set to work with. As a test set, we will use the full test set of FashionMNIST.  \n",
    "- Define a MLP with one hidden layer of width $h = 32$. Find the divergent learning rate $\\eta ^*$ for this\n",
    "model and use a fixed learning rate of $\\eta^∗ / 2$, as we discussed in class.  \n",
    "- Train the model for 100 passes over the data.  \n",
    "- Repeat this procedure for widths $h = 8, 16, 128, 512$ with the same learning rate $\\eta^∗ / 2$ as above (i.e., you do not need to find the divergent learning rate of each model for this exercise).  \n",
    "\n",
    "The deliverables for this exercise are:  \n",
    "1. Make 4 plots, one each for the train loss, train accuracy, test loss and test accuracy over the course of training (i.e., the metric on the y-axis and number of effective passes on the x-axis). Plot all 4 lines, one for each value of h on the same plot.  \n",
    "2. When the training accuracy is 100%, the model is said to interpolate the training data. What is the smallest width at which we observe perfect interpolation of the training data?  \n",
    "3. As we vary the width of the network, at which training epoch do we observe perfect interpolation of the data? That is, make a plot with h on the x-axis and number of passes over the data required for interpolation on the y axis.  \n",
    "\n",
    "Some notes for broader context:  \n",
    "- For the full dataset, we can make the same observation, but the smallest width of the network which can perfectly interpolate the training data is much larger.  \n",
    "- While networks of a range of widths can perfectly interpolate the training data, the test errors they obtain can be different. This is one of the observations that makes tuning a neural network architecture more of an art than a science.  \n",
    "- A general rule of thumb is that the neural network should be large enough to interpolate the training data.  "
   ]
  },
  {
   "cell_type": "code",
   "execution_count": 1,
   "id": "26236b99",
   "metadata": {},
   "outputs": [],
   "source": [
    "# Imports\n",
    "import numpy as np\n",
    "import torch\n",
    "from torchvision.datasets import FashionMNIST\n",
    "from torch.nn.functional import cross_entropy\n",
    "import time\n",
    "\n",
    "import matplotlib.pyplot as plt \n",
    "%matplotlib inline \n",
    "\n",
    "torch.manual_seed(0)\n",
    "np.random.seed(1)"
   ]
  },
  {
   "cell_type": "markdown",
   "id": "45c633e5",
   "metadata": {},
   "source": [
    "Download the FashionMNIST training and test data. Randomly select 10% of the full training data set to train on. Use full test set."
   ]
  },
  {
   "cell_type": "code",
   "execution_count": 2,
   "id": "4d86c3dd",
   "metadata": {},
   "outputs": [
    {
     "name": "stdout",
     "output_type": "stream",
     "text": [
      "X_train.shape = torch.Size([6000, 28, 28])\n",
      "n_train: 6000, n_test: 10000\n",
      "Image size: torch.Size([28, 28])\n"
     ]
    }
   ],
   "source": [
    "# Randomly subset 10% of the FashionMNIST training data\n",
    "# download dataset (~117M in size)\n",
    "train = FashionMNIST('./data', train=True, download=True)\n",
    "X_train = train.data\n",
    "y_train = train.targets.long()\n",
    "test = FashionMNIST('./data', train=False, download=True)\n",
    "X_test = test.data\n",
    "y_test = test.targets.long()\n",
    "\n",
    "# choose a subsample of 10% of the data:\n",
    "idxs_train = torch.from_numpy(\n",
    "    np.random.choice(X_train.shape[0], replace=False, size=X_train.shape[0]//10))\n",
    "X_train, y_train = X_train[idxs_train], y_train[idxs_train]\n",
    "\n",
    "print(f'X_train.shape = {X_train.shape}')\n",
    "print(f'n_train: {X_train.shape[0]}, n_test: {X_test.shape[0]}')\n",
    "print(f'Image size: {X_train.shape[1:]}')"
   ]
  },
  {
   "cell_type": "markdown",
   "id": "a84397a8",
   "metadata": {},
   "source": [
    "Preprocessing: Normalize the training set and flatten from $28 x 28$ to 784 pixels long."
   ]
  },
  {
   "cell_type": "code",
   "execution_count": 3,
   "id": "74ff9396",
   "metadata": {},
   "outputs": [],
   "source": [
    "RESHAPE_SIZE = X_train.shape[1:][0] * X_train.shape[1:][1] # 784\n",
    "X_train = X_train.float().view(-1, RESHAPE_SIZE)  # Shape: (n, 784)\n",
    "\n",
    "# Normalize: add a small number to avoid divide by zero\n",
    "mean, std = X_train.mean(axis=0), X_train.std(axis=0)  # Shape: (784,)\n",
    "X_train = (X_train - mean[None, :]) / (std[None, :] + 1e-6) # Shape: (n, 784)\n",
    "\n",
    "X_test = X_test.float().view(-1, RESHAPE_SIZE)  # Shape: (n', 784)\n",
    "X_test = (X_test - mean[None, :]) / (std[None, :] + 1e-6)  # Shape: (n', 784)\n",
    "\n",
    "n_class = np.unique(y_train).shape[0]  # We have K=10 classes numbered (0, 1, ..., 9)"
   ]
  },
  {
   "cell_type": "markdown",
   "id": "99d94558",
   "metadata": {},
   "source": [
    "Create MLP with one hidden layer with width $h = 32$.\n",
    "\n",
    "`mlp` function is computing  \n",
    "$$\n",
    "    \\varphi(x; W_1, \\cdots, W_L, b_1, \\cdots, b_L) = \n",
    "    W_L^\\top \\sigma\\Big( W_{L-1}^\\top \\sigma\\big( \\cdots \\sigma(W_1^\\top x + b_1)\\big) + b_{L-1} \\Big) + b_L\n",
    "$$  \n",
    "with $\\sigma (t) = max[t, 0]$."
   ]
  },
  {
   "cell_type": "code",
   "execution_count": 4,
   "id": "33421899",
   "metadata": {},
   "outputs": [],
   "source": [
    "# Create utility functions to compute objective and accuracy\n",
    "\n",
    "def mlp(X, ws, bs):\n",
    "    \"\"\"\n",
    "    Compute multi-layered perceptron with one hidden layer\n",
    "    X is shape (n, d)\n",
    "    ws is list of tensors of consistent shape\n",
    "    Uses RELU for activation function.\n",
    "    \"\"\"\n",
    "    hidden = X #n(, d_0)\n",
    "    for w, b in zip(ws[:-1], bs[:-1]):\n",
    "        hidden = torch.matmul(hidden, w) + b[None, :]\n",
    "        hidden = torch.nn.functional.relu(hidden)\n",
    "    return torch.matmul(hidden, ws[-1]) + bs[-1][None, :] # why only using -1 index?\n",
    "\n",
    "def compute_objective(ws, bs, X, y, reg_param):\n",
    "    \"\"\"\n",
    "    Compute multinomial logistic loss.\n",
    "    ws is list of tensors with consistent shape\n",
    "    X is of shape (n, d) and y is shape (n,)\n",
    "    \"\"\"\n",
    "    score = mlp(X, ws, bs) # Shape: (n, K)\n",
    "    return (\n",
    "        cross_entropy(input=score, target=y, reduction='mean') \n",
    "        + 0.5 * reg_param * sum([torch.norm(w)**2 for w in ws])\n",
    "    )\n",
    "\n",
    "@torch.no_grad()\n",
    "def compute_accuracy(ws, bs, X, y):\n",
    "    \"\"\"\n",
    "    Compute the classification accuracy.\n",
    "    ws is a list of tensors of consistent shape.\n",
    "    X is of shape (n, d) and y is of shape (n,)\n",
    "    \"\"\"\n",
    "    score = mlp(X, ws, bs)\n",
    "    predictions = torch.argmax(score, axis=1) # predict class with the highest score\n",
    "    return (predictions == y).sum() * 1.0 / y.shape[0]\n",
    "\n",
    "@torch.no_grad()\n",
    "def compute_logs(ws, bs, reg_param, verbose=False):\n",
    "    \"\"\"\n",
    "    \"\"\"\n",
    "    train_loss = compute_objective(ws, bs, X_train, y_train, reg_param)\n",
    "    test_loss = compute_objective(ws, bs, X_test, y_test, reg_param)\n",
    "    train_accuracy = compute_accuracy(ws, bs, X_train, y_train)\n",
    "    test_accuracy = compute_accuracy(ws, bs, X_test, y_test)\n",
    "    \n",
    "    if verbose:\n",
    "        print(\n",
    "            ('Train loss = {:.3f}, Train accuracy = {:.3f}, ' + \n",
    "             'Test loss = {:.3f}, Test accuracy = {:.3f}').format(\n",
    "                train_loss.item(), train_accuracy.item(),\n",
    "                test_loss.item(), test_accuracy.item())\n",
    "        )\n",
    "    return (train_loss, train_accuracy, test_loss, test_accuracy)\n",
    "\n",
    "def sgd_one_pass(ws, bs, X, y, reg_param, learning_rate, verbose=False):\n",
    "    \"\"\"\n",
    "    One pass of stochastic gradient descent\n",
    "    \"\"\"\n",
    "    num_examples = X.shape[0]\n",
    "    average_loss = 0.0\n",
    "    for i in range(num_examples):\n",
    "        idx = np.random.choice(X.shape[0])\n",
    "        \n",
    "        # Compute the objective\n",
    "        # Note: This function requires X to be of shape (n, d). In this case n=1.\n",
    "        objective = compute_objective(ws, bs, X[idx:idx+1], y[idx:idx+1], reg_param)\n",
    "        average_loss = 0.99 * average_loss + 0.01 * objective.item()\n",
    "        \n",
    "        if verbose and (i+1) % 100 == 0:\n",
    "            print(average_loss)\n",
    "            \n",
    "        # Compute the gradient using automatic differentiation\n",
    "        all_parameters = [*ws, *bs]\n",
    "        gradients = torch.autograd.grad(outputs=objective, inputs=all_parameters)\n",
    "        \n",
    "        # Perform SGD update. MAKE THE UPDATE INPLACE\n",
    "        with torch.no_grad():\n",
    "            for (w, g) in zip(all_parameters, gradients):\n",
    "                w -= learning_rate * g\n",
    "        \n",
    "    return ws, bs"
   ]
  },
  {
   "cell_type": "markdown",
   "id": "b2b843b8",
   "metadata": {},
   "source": [
    "Start with $\\eta=0.1$ to find the divergent learning rate. (This diverges)"
   ]
  },
  {
   "cell_type": "code",
   "execution_count": 5,
   "id": "f83bb1e7",
   "metadata": {},
   "outputs": [
    {
     "name": "stdout",
     "output_type": "stream",
     "text": [
      "Train loss = 2.303, Train accuracy = 0.094, Test loss = 2.303, Test accuracy = 0.096\n",
      "62.190763311322456\n",
      "4650229904738404.0\n",
      "8.93262588471546e+29\n",
      "nan\n",
      "nan\n",
      "nan\n",
      "nan\n",
      "nan\n",
      "nan\n",
      "nan\n",
      "nan\n",
      "nan\n",
      "nan\n",
      "nan\n",
      "nan\n",
      "nan\n",
      "nan\n",
      "nan\n",
      "nan\n",
      "nan\n",
      "nan\n",
      "nan\n",
      "nan\n",
      "nan\n",
      "nan\n",
      "nan\n",
      "nan\n",
      "nan\n",
      "nan\n",
      "nan\n",
      "nan\n",
      "nan\n",
      "nan\n",
      "nan\n",
      "nan\n",
      "nan\n",
      "nan\n",
      "nan\n",
      "nan\n",
      "nan\n",
      "nan\n",
      "nan\n",
      "nan\n",
      "nan\n",
      "nan\n",
      "nan\n",
      "nan\n",
      "nan\n",
      "nan\n",
      "nan\n",
      "nan\n",
      "nan\n",
      "nan\n",
      "nan\n",
      "nan\n",
      "nan\n",
      "nan\n",
      "nan\n",
      "nan\n",
      "nan\n",
      "Train loss = nan, Train accuracy = 0.098, Test loss = nan, Test accuracy = 0.100\n"
     ]
    }
   ],
   "source": [
    "reg_param = 0.0\n",
    "hidden_size = 32\n",
    "\n",
    "# Find optimal learning_rate\n",
    "learning_rate = 1e-1\n",
    "\n",
    "logs = []\n",
    "# Randomize start of weights\n",
    "ws = [1e-6 * torch.randn(RESHAPE_SIZE, hidden_size, requires_grad=True),\n",
    "      1e-6 * torch.randn(hidden_size, n_class, requires_grad=True)]\n",
    "# No bias\n",
    "bs = [torch.zeros(hidden_size, requires_grad=True),\n",
    "      torch.zeros(n_class, requires_grad=True)]\n",
    "\n",
    "_ = compute_logs(ws, bs, reg_param, verbose=True)\n",
    "\n",
    "ws, bs = sgd_one_pass(ws, bs, X_train, y_train, reg_param, learning_rate, verbose=True)\n",
    "_ = compute_logs(ws, bs, reg_param, verbose=True)"
   ]
  },
  {
   "cell_type": "markdown",
   "id": "e009d5cc",
   "metadata": {},
   "source": [
    "Update to $\\eta=0.01$. This converges!"
   ]
  },
  {
   "cell_type": "code",
   "execution_count": 6,
   "id": "e069eae8",
   "metadata": {},
   "outputs": [
    {
     "name": "stdout",
     "output_type": "stream",
     "text": [
      "Train loss = 2.303, Train accuracy = 0.052, Test loss = 2.303, Test accuracy = 0.051\n",
      "1.4608998256816126\n",
      "1.9923951213840163\n",
      "2.1889454314199206\n",
      "2.2640533873590174\n",
      "2.2909573200380366\n",
      "2.2916773653685953\n",
      "2.1414728888739516\n",
      "1.8798762360914671\n",
      "1.6420133585703154\n",
      "1.5075974727856454\n",
      "1.3210117978532534\n",
      "1.2342914046561744\n",
      "1.1181583890333024\n",
      "0.9726298808026117\n",
      "0.8707886463612109\n",
      "0.79226330957119\n",
      "0.8577001934259665\n",
      "0.9085297572757587\n",
      "0.8122739152289604\n",
      "0.834719401049695\n",
      "0.731862613892723\n",
      "0.8407149233663985\n",
      "0.908821499570108\n",
      "0.7285062533028129\n",
      "0.5984741258662986\n",
      "0.597750551638531\n",
      "0.6075865823842667\n",
      "1.0735915624737125\n",
      "0.899249244420615\n",
      "0.7333176383869785\n",
      "0.7219997470497812\n",
      "0.7305460816789218\n",
      "0.8116702203496948\n",
      "0.8059350258556143\n",
      "0.6905435382657853\n",
      "0.6735241816981435\n",
      "0.5869940299452227\n",
      "0.5497299399154231\n",
      "0.8656895033968851\n",
      "0.8230686231384952\n",
      "0.8478453928882861\n",
      "0.7543565825809772\n",
      "0.6816981395657867\n",
      "0.7355536919599106\n",
      "0.5692651553372777\n",
      "0.6254473785115257\n",
      "0.5855207601357346\n",
      "0.6584080455105329\n",
      "0.7935744484167768\n",
      "0.6542076240180466\n",
      "0.6168766956472357\n",
      "0.6126730244377553\n",
      "0.5435988155295113\n",
      "0.702291688491632\n",
      "0.6388985573770474\n",
      "0.4845966323798432\n",
      "0.4108601643779934\n",
      "0.6929472504863521\n",
      "0.6241212098750701\n",
      "0.6065785744881198\n",
      "Train loss = 0.561, Train accuracy = 0.794, Test loss = 0.649, Test accuracy = 0.781\n"
     ]
    }
   ],
   "source": [
    "reg_param = 0.0\n",
    "hidden_size = 32\n",
    "\n",
    "# Find optimal learning_rate\n",
    "learning_rate = 1e-2\n",
    "\n",
    "logs = []\n",
    "# Randomize start of weights\n",
    "ws = [1e-6 * torch.randn(RESHAPE_SIZE, hidden_size, requires_grad=True),\n",
    "      1e-6 * torch.randn(hidden_size, n_class, requires_grad=True)]\n",
    "# No bias\n",
    "bs = [torch.zeros(hidden_size, requires_grad=True),\n",
    "      torch.zeros(n_class, requires_grad=True)]\n",
    "\n",
    "_ = compute_logs(ws, bs, reg_param, verbose=True)\n",
    "\n",
    "ws, bs = sgd_one_pass(ws, bs, X_train, y_train, reg_param, learning_rate, verbose=True)\n",
    "_ = compute_logs(ws, bs, reg_param, verbose=True)"
   ]
  },
  {
   "cell_type": "markdown",
   "id": "328e44f5",
   "metadata": {},
   "source": [
    "$2*\\eta$ diverges. This makes the divergent learning rate $\\eta=0.01$."
   ]
  },
  {
   "cell_type": "code",
   "execution_count": 7,
   "id": "9c607845",
   "metadata": {},
   "outputs": [
    {
     "name": "stdout",
     "output_type": "stream",
     "text": [
      "Train loss = 2.303, Train accuracy = 0.080, Test loss = 2.303, Test accuracy = 0.079\n",
      "1.4564269354584076\n",
      "1.995417965629625\n",
      "2.1310496323388772\n",
      "2.016373012374918\n",
      "1.7532089025766102\n",
      "1.5139263438459274\n",
      "1.3836902138532827\n",
      "1.288920363325558\n",
      "1.2262919844425402\n",
      "1.3574690307865898\n",
      "1.2204098321357535\n",
      "1.2131959498940585\n",
      "1.0360843641254396\n",
      "1.1388596518940128\n",
      "1.3927669974371546\n",
      "1.0990790746918158\n",
      "1.277246767612214\n",
      "1.4308077213127042\n",
      "1.2053607266189228\n",
      "1.1023092795417997\n",
      "1.3862985395961507\n",
      "1.6492444269042688\n",
      "1.422250738767373\n",
      "1.3128419238697802\n",
      "1.2442829735233365\n",
      "1.1770806143899668\n",
      "1.2541262081164963\n",
      "0.9667243504955382\n",
      "1.279898388822276\n",
      "1.2761362769329243\n",
      "1.4547387579912916\n",
      "1.1066895717598637\n",
      "1.1241894677800555\n",
      "1.6672457091373019\n",
      "1.2063193238719538\n",
      "2.1327376819989388\n",
      "2.58623868011221\n",
      "2.212351041489525\n",
      "2.4420904460214206\n",
      "2.2242393061174552\n",
      "2.2269066207917607\n",
      "2.469038300907245\n",
      "2.3275872827818325\n",
      "1.8794025854595273\n",
      "1.6657704713313684\n",
      "1.971801793644813\n",
      "2.1387933799231056\n",
      "1.877628481474048\n",
      "1.5793825792636793\n",
      "1.6386315616507197\n",
      "2.3958243626806097\n",
      "3.1783936336244483\n",
      "2.405075636007173\n",
      "1.9501106296656712\n",
      "3.1196419791190717\n",
      "3.0660127477380112\n",
      "3.9516873964201995\n",
      "2.592018616059509\n",
      "2.847716634702129\n",
      "2.1055667894882895\n",
      "Train loss = 2.428, Train accuracy = 0.665, Test loss = 2.629, Test accuracy = 0.658\n"
     ]
    }
   ],
   "source": [
    "reg_param = 0.0\n",
    "hidden_size = 32\n",
    "\n",
    "# Find optimal learning_rate\n",
    "learning_rate = 2e-2\n",
    "\n",
    "logs = []\n",
    "# Randomize start of weights\n",
    "ws = [1e-6 * torch.randn(RESHAPE_SIZE, hidden_size, requires_grad=True),\n",
    "      1e-6 * torch.randn(hidden_size, n_class, requires_grad=True)]\n",
    "# No bias\n",
    "bs = [torch.zeros(hidden_size, requires_grad=True),\n",
    "      torch.zeros(n_class, requires_grad=True)]\n",
    "\n",
    "_ = compute_logs(ws, bs, reg_param, verbose=True)\n",
    "\n",
    "ws, bs = sgd_one_pass(ws, bs, X_train, y_train, reg_param, learning_rate, verbose=True)\n",
    "_ = compute_logs(ws, bs, reg_param, verbose=True)"
   ]
  },
  {
   "cell_type": "markdown",
   "id": "5c7191d8",
   "metadata": {},
   "source": [
    "Using $\\eta^* = 0.01$ and fixing the learning rate at $\\frac{\\eta^*}{2}=0.005$, train the model on 100 passes of the data for $h=8, 16, 32, 64, 128, 512$."
   ]
  },
  {
   "cell_type": "code",
   "execution_count": 9,
   "id": "d4f69a84",
   "metadata": {},
   "outputs": [],
   "source": [
    "def train_mlp_model(reg_param, hidden_size, learning_rate, iterations):\n",
    "    \"\"\"\n",
    "    Outputs a list of the compute logs for the model\n",
    "    \"\"\"\n",
    "    logs = []\n",
    "    ws = [1e-6 * torch.randn(RESHAPE_SIZE, hidden_size, requires_grad=True),\n",
    "          1e-6 * torch.randn(hidden_size, n_class, requires_grad=True)]\n",
    "    bs = [torch.zeros(hidden_size, requires_grad=True),\n",
    "          torch.zeros(n_class, requires_grad=True)]\n",
    "    logs.append(compute_logs(ws, bs, reg_param, verbose=True))\n",
    "\n",
    "    for j in range(iterations):\n",
    "        print(j+1, end=', ')\n",
    "        ws, bs = sgd_one_pass(ws, bs, X_train, y_train, reg_param, learning_rate, verbose=False)\n",
    "        logs.append(compute_logs(ws, bs, reg_param, verbose=False))\n",
    "    return logs"
   ]
  },
  {
   "cell_type": "markdown",
   "id": "f070fab0",
   "metadata": {},
   "source": [
    "### Deliverable 1: Plot training/test loss and accuracy for each network width"
   ]
  },
  {
   "cell_type": "code",
   "execution_count": 11,
   "id": "bd50630b",
   "metadata": {},
   "outputs": [
    {
     "name": "stdout",
     "output_type": "stream",
     "text": [
      "Train loss = 2.303, Train accuracy = 0.114, Test loss = 2.303, Test accuracy = 0.111\n",
      "1, 2, 3, 4, 5, 6, 7, 8, 9, 10, 11, 12, 13, 14, 15, 16, 17, 18, 19, 20, 21, 22, 23, 24, 25, 26, 27, 28, 29, 30, 31, 32, 33, 34, 35, 36, 37, 38, 39, 40, 41, 42, 43, 44, 45, 46, 47, 48, 49, 50, 51, 52, 53, 54, 55, 56, 57, 58, 59, 60, 61, 62, 63, 64, 65, 66, 67, 68, 69, 70, 71, 72, 73, 74, 75, 76, 77, 78, 79, 80, 81, 82, 83, 84, 85, 86, 87, 88, 89, 90, 91, 92, 93, 94, 95, 96, 97, 98, 99, 100, Train loss = 2.303, Train accuracy = 0.102, Test loss = 2.303, Test accuracy = 0.098\n",
      "1, 2, 3, 4, 5, 6, 7, 8, 9, 10, 11, 12, 13, 14, 15, 16, 17, 18, 19, 20, 21, 22, 23, 24, 25, 26, 27, 28, 29, 30, 31, 32, 33, 34, 35, 36, 37, 38, 39, 40, 41, 42, 43, 44, 45, 46, 47, 48, 49, 50, 51, 52, 53, 54, 55, 56, 57, 58, 59, 60, 61, 62, 63, 64, 65, 66, 67, 68, 69, 70, 71, 72, 73, 74, 75, 76, 77, 78, 79, 80, 81, 82, 83, 84, 85, 86, 87, 88, 89, 90, 91, 92, 93, 94, 95, 96, 97, 98, 99, 100, Train loss = 2.303, Train accuracy = 0.157, Test loss = 2.303, Test accuracy = 0.148\n",
      "1, 2, 3, 4, 5, 6, 7, 8, 9, 10, 11, 12, 13, 14, 15, 16, 17, 18, 19, 20, 21, 22, 23, 24, 25, 26, 27, 28, 29, 30, 31, 32, 33, 34, 35, 36, 37, 38, 39, 40, 41, 42, 43, 44, 45, 46, 47, 48, 49, 50, 51, 52, 53, 54, 55, 56, 57, 58, 59, 60, 61, 62, 63, 64, 65, 66, 67, 68, 69, 70, 71, 72, 73, 74, 75, 76, 77, 78, 79, 80, 81, 82, 83, 84, 85, 86, 87, 88, 89, 90, 91, 92, 93, 94, 95, 96, 97, 98, 99, 100, Train loss = 2.303, Train accuracy = 0.123, Test loss = 2.303, Test accuracy = 0.117\n",
      "1, 2, 3, 4, 5, 6, 7, 8, 9, 10, 11, 12, 13, 14, 15, 16, 17, 18, 19, 20, 21, 22, 23, 24, 25, 26, 27, 28, 29, 30, 31, 32, 33, 34, 35, 36, 37, 38, 39, 40, 41, 42, 43, 44, 45, 46, 47, 48, 49, 50, 51, 52, 53, 54, 55, 56, 57, 58, 59, 60, 61, 62, 63, 64, 65, 66, 67, 68, 69, 70, 71, 72, 73, 74, 75, 76, 77, 78, 79, 80, 81, 82, 83, 84, 85, 86, 87, 88, 89, 90, 91, 92, 93, 94, 95, 96, 97, 98, 99, 100, Train loss = 2.303, Train accuracy = 0.132, Test loss = 2.303, Test accuracy = 0.137\n",
      "1, 2, 3, 4, 5, 6, 7, 8, 9, 10, 11, 12, 13, 14, 15, 16, 17, 18, 19, 20, 21, 22, 23, 24, 25, 26, 27, 28, 29, 30, 31, 32, 33, 34, 35, 36, 37, 38, 39, 40, 41, 42, 43, 44, 45, 46, 47, 48, 49, 50, 51, 52, 53, 54, 55, 56, 57, 58, 59, 60, 61, 62, 63, 64, 65, 66, 67, 68, 69, 70, 71, 72, 73, 74, 75, 76, 77, 78, 79, 80, 81, 82, 83, 84, 85, 86, 87, 88, 89, 90, 91, 92, 93, 94, 95, 96, 97, 98, 99, 100, "
     ]
    },
    {
     "data": {
      "text/plain": [
       "<matplotlib.legend.Legend at 0x7fb677bc0820>"
      ]
     },
     "execution_count": 11,
     "metadata": {},
     "output_type": "execute_result"
    },
    {
     "data": {
      "image/png": "[encoded data removed]",
      "text/plain": [
       "<Figure size 1080x576 with 4 Axes>"
      ]
     },
     "metadata": {
      "needs_background": "light"
     },
     "output_type": "display_data"
    }
   ],
   "source": [
    "fig, ax = plt.subplots(2, 2, figsize=(15, 8))\n",
    "logs = []\n",
    "reg_param = 0.0\n",
    "LEARNING_RATE = 5e-3\n",
    "\n",
    "for h in [8, 16, 32, 128, 512]:\n",
    "    # Train model\n",
    "    log = np.asarray(train_mlp_model(reg_param, h, LEARNING_RATE, 100))\n",
    "    logs.append(log)\n",
    "#     log = np.asarray(log)\n",
    "#     log = np.asarray(logs)\n",
    "    h_lab = 'h = ' + str(h)\n",
    "    \n",
    "    # Plot results\n",
    "    ax[0][0].plot(log[:, 0], label=h_lab)\n",
    "    ax[0][1].plot(log[:, 2], label=h_lab)\n",
    "    ax[1][0].plot(log[:, 1], label=h_lab)\n",
    "    ax[1][1].plot(log[:, 3], label=h_lab)\n",
    "\n",
    "ax[1][1].set_xlabel('# Passes', fontsize=12)\n",
    "ax[1][0].set_xlabel('# Passes', fontsize=12)\n",
    "ax[0][0].set_ylabel('Loss', fontsize=12)\n",
    "ax[1][0].set_ylabel('Accuracy', fontsize=12)\n",
    "ax[0][0].set_title('Train Loss', fontsize=12)\n",
    "ax[0][1].set_title('Test Loss', fontsize=12)\n",
    "ax[1][0].set_title('Train Accuracy', fontsize=12)\n",
    "ax[1][1].set_title('Test Accuracy', fontsize=12)\n",
    "ax[0][0].legend(fontsize=12)"
   ]
  },
  {
   "cell_type": "markdown",
   "id": "f8da4eb1",
   "metadata": {},
   "source": [
    "### Deliverable 2: What is the smallest $h$ for which we see interpolation? That is $h=32$."
   ]
  },
  {
   "cell_type": "code",
   "execution_count": 46,
   "id": "04453a57",
   "metadata": {},
   "outputs": [
    {
     "name": "stdout",
     "output_type": "stream",
     "text": [
      "{'h': [8, 16, 32, 128, 512], 'min_epoch': [None, None, 53, 41, 34]}\n"
     ]
    }
   ],
   "source": [
    "def get_min_epoch(i):\n",
    "    if i.size == 0:\n",
    "        return None\n",
    "    else:\n",
    "        return np.min(i)\n",
    "\n",
    "min_epoch = [get_min_epoch(np.where(l[:, 1] == 1.0)[0]) for l in logs]\n",
    "epochs = {'h': [8, 16, 32, 128, 512],\n",
    "          'min_epoch': min_epoch}\n",
    "print(epochs)"
   ]
  },
  {
   "cell_type": "markdown",
   "id": "ed124a86",
   "metadata": {},
   "source": [
    "### Deliverable 3: The minimum number of passes needed to perfectly interpolate the data decreases as the network width increases.  \n",
    "For $h=32$ it is 53 passes, and for $h=512$ it is 34 passes."
   ]
  },
  {
   "cell_type": "code",
   "execution_count": 54,
   "id": "01cb38db",
   "metadata": {},
   "outputs": [
    {
     "data": {
      "text/plain": [
       "Text(0.5, 1.0, 'Min number of passes to interpolate vs. network width')"
      ]
     },
     "execution_count": 54,
     "metadata": {},
     "output_type": "execute_result"
    },
    {
     "data": {
      "image/png": "[encoded data removed]",
      "text/plain": [
       "<Figure size 432x288 with 1 Axes>"
      ]
     },
     "metadata": {
      "needs_background": "light"
     },
     "output_type": "display_data"
    }
   ],
   "source": [
    "plt.plot(figsize=(15, 8))\n",
    "\n",
    "plt.plot(epochs['h'], epochs['min_epoch'])\n",
    "plt.xlabel('h', fontsize=12)\n",
    "plt.ylabel('Min number of passes', fontsize=12)\n",
    "plt.title('Min number of passes to interpolate vs. network width', fontsize=12)"
   ]
  }
 ],
 "metadata": {
  "kernelspec": {
   "display_name": "Python [conda env:data598]",
   "language": "python",
   "name": "conda-env-data598-py"
  },
  "language_info": {
   "codemirror_mode": {
    "name": "ipython",
    "version": 3
   },
   "file_extension": ".py",
   "mimetype": "text/x-python",
   "name": "python",
   "nbconvert_exporter": "python",
   "pygments_lexer": "ipython3",
   "version": "3.8.12"
  }
 },
 "nbformat": 4,
 "nbformat_minor": 5
}
